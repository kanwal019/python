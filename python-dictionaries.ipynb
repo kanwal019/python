{
 "cells": [
  {
   "cell_type": "code",
   "execution_count": null,
   "metadata": {},
   "outputs": [],
   "source": [
    "# Dictionaries in python\n",
    "\n",
    "dct={}\n",
    "print(dct)\n",
    "print(type(dct))\n",
    "\n",
    "dct=dict()\n",
    "print(dct)\n",
    "print(type(dct))\n",
    "\n",
    "dct={\"name\":\"John\", \"age\":30, \"country\":\"USA\"}\n",
    "print(dct)\n",
    "print(type(dct))\n",
    "\n",
    "dct={\"name\":\"John\", \"age\":30, \"country\":\"USA\", \"name\":\"Jane\"}\n",
    "print(dct)\n",
    "print(type(dct))"
   ]
  },
  {
   "cell_type": "code",
   "execution_count": null,
   "metadata": {},
   "outputs": [],
   "source": [
    "# CRUD on dictionaries... \n",
    "# Missing key will give None as an output unless a message is added\n",
    "# Adding an element to a new key will add the new key to the dictionary\n",
    "\n",
    "print(dct[\"name\"])\n",
    "print(dct[\"age\"])\n",
    "\n",
    "print(dct.get(\"country\"))\n",
    "print(dct.get(\"phone\"))\n",
    "print(dct.get(\"phone\", \"Not Available\"))\n",
    "\n",
    "print(dct)\n",
    "dct[\"name\"]=\"Jack\"\n",
    "dct[\"phone\"]=\"+1xxxxxxxxx\"\n",
    "print(dct)\n",
    "\n",
    "del dct[\"age\"]\n",
    "print(dct)"
   ]
  },
  {
   "cell_type": "code",
   "execution_count": null,
   "metadata": {},
   "outputs": [],
   "source": [
    "# Important dictionary methods\n",
    "\n",
    "keys=dct.keys()\n",
    "values=dct.values()\n",
    "pairs=dct.items()\n",
    "\n",
    "print(keys)\n",
    "print(values)\n",
    "print(pairs)"
   ]
  },
  {
   "cell_type": "code",
   "execution_count": null,
   "metadata": {},
   "outputs": [],
   "source": [
    "# Shallow copy... to copy reference types\n",
    "\n",
    "dct_cpy=dct\n",
    "dct_shl_cpy=dct.copy()\n",
    "dct[\"name\"]=\"Deadpool\"\n",
    "print(dct)\n",
    "print(dct_cpy)      # Same output\n",
    "print(dct_shl_cpy)\n"
   ]
  },
  {
   "cell_type": "code",
   "execution_count": null,
   "metadata": {},
   "outputs": [],
   "source": [
    "# Iterating dictionaries\n",
    "\n",
    "for key in dct.keys():\n",
    "    print(key)\n",
    "\n",
    "for value in dct.values():\n",
    "    print(value)\n",
    "\n",
    "for key,value in dct.items():\n",
    "    print(f\"{key}:{value}\")\n"
   ]
  },
  {
   "cell_type": "code",
   "execution_count": null,
   "metadata": {},
   "outputs": [],
   "source": [
    "# Nested dictionaries\n",
    "\n",
    "sups={\n",
    "    \"sup1\": {\"name\":\"Deadpool\", \"age\":47, \"country\":\"USA\"},\n",
    "    \"sup2\": {\"name\":\"Black Panther\", \"age\":30, \"country\":\"Wakanda\"},\n",
    "    \"sup3\": {\"name\":\"Black Widow\", \"age\":35, \"country\":\"Russia\"},\n",
    "    \"sup4\": {\"name\":\"Wolverine\", \"age\":200, \"country\":\"Canada\"},\n",
    "}\n",
    "\n",
    "print(sups)\n",
    "print()\n",
    "\n",
    "print(sups[\"sup1\"][\"name\"])\n",
    "print(sups[\"sup1\"][\"age\"])\n",
    "print()\n",
    "\n",
    "print(sups[\"sup4\"][\"name\"])\n",
    "print(sups[\"sup4\"][\"age\"])\n",
    "print()\n",
    "\n",
    "# Iterating over dictionaries\n",
    "\n",
    "for sup_id,sup_info in sups.items():\n",
    "    print(f\"{sup_id}:{sup_info}\")\n",
    "    for key,value in sup_info.items():\n",
    "        print(f\"{key}:{value}\")\n",
    "    print()    "
   ]
  },
  {
   "cell_type": "code",
   "execution_count": null,
   "metadata": {},
   "outputs": [],
   "source": [
    "# Dictionary comprehension\n",
    "\n",
    "dct={i:i**2 for i in range(20)} \n",
    "print(dct) \n",
    "\n",
    "dct={i:i**2 for i in range(20) if i%2==0} \n",
    "print(dct) "
   ]
  },
  {
   "cell_type": "code",
   "execution_count": null,
   "metadata": {},
   "outputs": [],
   "source": [
    "# Use a dictionary to count the frequency of the elements in a list\n",
    "\n",
    "nums=[1,2,2,3,3,3,4,4,4,4,5,5,5,5,5]\n",
    "\n",
    "freq={}\n",
    "for num in nums:\n",
    "    if freq.get(num)==None:\n",
    "        freq[num]=1\n",
    "    else:\n",
    "        freq[num]+=1\n",
    "print(freq)\n",
    "\n",
    "# Alternate condition\n",
    "\n",
    "freq={}\n",
    "for num in nums:\n",
    "    if num in freq:\n",
    "        freq[num]=+1\n",
    "    else:\n",
    "        freq[num]=1\n",
    "print(freq)        "
   ]
  },
  {
   "cell_type": "code",
   "execution_count": null,
   "metadata": {},
   "outputs": [],
   "source": [
    "# Merge dictionaries... It will updated the keys in a dictionary\n",
    "\n",
    "dct1={\"name\":\"John\", \"age\":30, \"country\":\"USA\"}\n",
    "dct2={\"name\":\"Jane\", \"age\":20, \"country\":\"UK\"}\n",
    "dct3={\"name\":\"Jane\", \"age\":40, \"Phone\":\"+91xxxxxxxxxx\"}\n",
    "\n",
    "mrgd_dct={**dct1,**dct2,**dct3}\n",
    "print(mrgd_dct)"
   ]
  }
 ],
 "metadata": {
  "kernelspec": {
   "display_name": "Python 3",
   "language": "python",
   "name": "python3"
  },
  "language_info": {
   "codemirror_mode": {
    "name": "ipython",
    "version": 3
   },
   "file_extension": ".py",
   "mimetype": "text/x-python",
   "name": "python",
   "nbconvert_exporter": "python",
   "pygments_lexer": "ipython3",
   "version": "3.10.1"
  }
 },
 "nbformat": 4,
 "nbformat_minor": 2
}
