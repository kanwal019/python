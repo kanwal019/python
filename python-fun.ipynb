{
 "cells": [
  {
   "cell_type": "code",
   "execution_count": null,
   "metadata": {},
   "outputs": [],
   "source": [
    "# Testing loops with strings\n",
    "\n",
    "str=\"This is a random string.\"  \n",
    "\n",
    "for i in str:\n",
    "    print(i)"
   ]
  },
  {
   "cell_type": "markdown",
   "metadata": {},
   "source": [
    "### Using a list in python to manage a TODO List:"
   ]
  },
  {
   "cell_type": "code",
   "execution_count": null,
   "metadata": {},
   "outputs": [],
   "source": [
    "# Existing TODO List\n",
    "to_do_list=[\"Clean the house\", \"Wash the clothes\", \"Make breakfast for tomorrow\"]\n",
    "\n",
    "# Added more tasks to the list\n",
    "to_do_list.append(\"Update the daily planner for tomorrow\")\n",
    "to_do_list.append(\"Pay credit card bill\")\n",
    "\n",
    "# Removed a completed task\n",
    "to_do_list.remove(\"Clean the house\")\n",
    "\n",
    "# Check for an incomplete task\n",
    "if \"Wash the clothes\" in to_do_list:\n",
    "    print(\"Don't forget to wash your clothes!!\")\n",
    "\n",
    "# Print remaining tasks\n",
    "for task in to_do_list:\n",
    "    print(f\"-{task}\")  "
   ]
  }
 ],
 "metadata": {
  "kernelspec": {
   "display_name": "Python 3",
   "language": "python",
   "name": "python3"
  },
  "language_info": {
   "codemirror_mode": {
    "name": "ipython",
    "version": 3
   },
   "file_extension": ".py",
   "mimetype": "text/x-python",
   "name": "python",
   "nbconvert_exporter": "python",
   "pygments_lexer": "ipython3",
   "version": "3.10.1"
  }
 },
 "nbformat": 4,
 "nbformat_minor": 2
}
