{
 "cells": [
  {
   "cell_type": "code",
   "execution_count": null,
   "metadata": {},
   "outputs": [],
   "source": [
    "# Tuples in python\n",
    "\n",
    "emp_tpl=()\n",
    "print(emp_tpl)\n",
    "print(type(emp_tpl))\n",
    "\n",
    "tpl=tuple()\n",
    "print(tpl)\n",
    "print(type(tpl))\n",
    "\n",
    "tpl=tuple([1,2,3,4,5])\n",
    "print(tpl)\n",
    "print(type(tpl))\n",
    "\n",
    "lst=list(tpl)\n",
    "print(lst)\n",
    "print(type(lst))"
   ]
  },
  {
   "cell_type": "code",
   "execution_count": null,
   "metadata": {},
   "outputs": [],
   "source": [
    "# Accessing tuple elements, they are accessed in the same manner as lists\n",
    "\n",
    "elements=[\"John\", \"Jane\", \"Jon\", \"Jack\", 1, 2, 3, 4, 5, True]\n",
    "print(elements)\n",
    "print(type(elements))\n",
    "\n",
    "elements_tpl=tuple(elements)\n",
    "print(elements_tpl)\n",
    "print(type(elements_tpl))\n",
    "\n",
    "print(elements_tpl[2:])\n",
    "print(elements_tpl[2:5])\n",
    "print(elements_tpl[-1:])\n",
    "print(elements_tpl[-1:3])\n",
    "print(elements_tpl[-1:-3])\n",
    "print(elements_tpl[3:-3])\n",
    "print(elements_tpl[-3:-1])\n",
    "\n",
    "print(elements_tpl[2:])\n",
    "print(elements_tpl[2:5])\n",
    "print(elements_tpl[5:])\n",
    "print(elements_tpl[:5])\n",
    "print(elements_tpl[::3])\n",
    "print(elements_tpl[::-1])\n",
    "print(elements_tpl[::-3])"
   ]
  },
  {
   "cell_type": "code",
   "execution_count": null,
   "metadata": {},
   "outputs": [],
   "source": [
    "# Insight into tuples \n",
    "\n",
    "num_lst=range(1,20)\n",
    "num_tpl=tuple(num_lst)\n",
    "\n",
    "mixed_tpl=num_tpl+elements_tpl\n",
    "print(mixed_tpl)\n",
    "\n",
    "tpl_multi=num_tpl*4\n",
    "print(tpl_multi) "
   ]
  },
  {
   "cell_type": "code",
   "execution_count": null,
   "metadata": {},
   "outputs": [],
   "source": [
    "# Tuples are immutable\n",
    "\n",
    "num_lst=list([1,2,3,4,5])\n",
    "num_tpl=tuple(num_lst)\n",
    "\n",
    "num_lst[1]=99\n",
    "print(num_lst)\n",
    "\n",
    "# num_tpl[1]=99        # This fails as 'tuple' object does not support item assignment\n",
    "print(num_tpl)"
   ]
  },
  {
   "cell_type": "code",
   "execution_count": null,
   "metadata": {},
   "outputs": [],
   "source": [
    "# Tuple methods\n",
    "\n",
    "num_lst.append(2)\n",
    "num_lst.append(2)\n",
    "num_lst.insert(2,2)\n",
    "\n",
    "num_tpl=tuple(num_lst)\n",
    "print(num_tpl.count(2))\n",
    "print(num_tpl.index(2))"
   ]
  },
  {
   "cell_type": "code",
   "execution_count": null,
   "metadata": {},
   "outputs": [],
   "source": [
    "# Packing and unpacking... You need to unpack the complete tuple\n",
    "\n",
    "tpl=\"John\", 1, 2, 3, True\n",
    "print(tpl)\n",
    "\n",
    "i,j,k,l,m=tpl\n",
    "print(i)\n",
    "print(j)\n",
    "print(k)\n",
    "print(l)\n",
    "print(m)\n",
    "\n",
    "fst,*mid,lst=tpl\n",
    "print(fst)\n",
    "print(mid)\n",
    "print(lst)"
   ]
  },
  {
   "cell_type": "code",
   "execution_count": null,
   "metadata": {},
   "outputs": [],
   "source": [
    "# Nested tuples\n",
    "\n",
    "tpl=((1,2,3,4),(6,7,8,9),(\"Alpha\",\"Mike\",\"Foxtrot\"))\n",
    "print(tpl[0])\n",
    "print(tpl[0][0:2])\n",
    "print(tpl[1:][1])\n",
    "\n",
    "for sub in tpl:\n",
    "    for item in sub:\n",
    "        print(item,end=\" \")\n",
    "    print()    "
   ]
  }
 ],
 "metadata": {
  "kernelspec": {
   "display_name": "Python 3",
   "language": "python",
   "name": "python3"
  },
  "language_info": {
   "codemirror_mode": {
    "name": "ipython",
    "version": 3
   },
   "file_extension": ".py",
   "mimetype": "text/x-python",
   "name": "python",
   "nbconvert_exporter": "python",
   "pygments_lexer": "ipython3",
   "version": "3.10.1"
  }
 },
 "nbformat": 4,
 "nbformat_minor": 2
}
