{
 "cells": [
  {
   "cell_type": "code",
   "execution_count": null,
   "metadata": {},
   "outputs": [],
   "source": [
    "# Lists in python\n",
    "\n",
    "lst=[]\n",
    "print(type(lst))\n",
    "\n",
    "lst=list()\n",
    "print(lst)\n",
    "print(type(lst))\n",
    "\n",
    "# Lists can have items of muptiple type\n",
    "\n",
    "elements=[\"John\", \"Jane\", \"Jon\", \"Jack\", 1, 2, 3, 4, 5, True]\n",
    "print(elements)\n",
    "print(type(elements))"
   ]
  },
  {
   "cell_type": "code",
   "execution_count": null,
   "metadata": {},
   "outputs": [],
   "source": [
    "# Indexes in the lists\n",
    "\n",
    "print(elements[2:])\n",
    "print(elements[2:5])\n",
    "print(elements[-1:])\n",
    "print(elements[-1:3])\n",
    "print(elements[-1:-3])\n",
    "print(elements[3:-3])\n",
    "print(elements[-3:-1])"
   ]
  },
  {
   "cell_type": "code",
   "execution_count": null,
   "metadata": {},
   "outputs": [],
   "source": [
    "# More indexes\n",
    "\n",
    "print(elements[2:])\n",
    "print(elements[2:5])\n",
    "print(elements[5:])\n",
    "print(elements[:5])\n",
    "print(elements[::3])\n",
    "print(elements[::-1])\n",
    "print(elements[::-3])"
   ]
  },
  {
   "cell_type": "code",
   "execution_count": null,
   "metadata": {},
   "outputs": [],
   "source": [
    "# Assigning with indexes\n",
    "\n",
    "elements[2]=\"Jack Daniels\"\n",
    "print(elements)\n",
    "\n",
    "elements[2:]=\"Jack Daniels\"\n",
    "print(elements)\n",
    "\n",
    "# Over here the string is treated as a list of chars and all the chars are added to the index after 2\n",
    "\n",
    "# Inserting with indexes\n",
    "\n",
    "elements.append(\"New\")\n",
    "print(elements)\n",
    "\n",
    "elements.insert(1, \"New\")\n",
    "print(elements)\n",
    "\n",
    "elements.remove(\"New\")\n",
    "print(elements)\n",
    "\n",
    "popped_elements=elements.pop()\n",
    "print(popped_elements)\n",
    "print(elements)"
   ]
  },
  {
   "cell_type": "code",
   "execution_count": null,
   "metadata": {},
   "outputs": [],
   "source": [
    "# More work with lists\n",
    "\n",
    "elements.append(\"Add\")\n",
    "print(elements)\n",
    "\n",
    "popped_elements=elements.pop()\n",
    "print(popped_elements)\n",
    "print(elements)\n",
    "\n",
    "idx=elements.index(\"Jane\")\n",
    "print(idx)\n",
    "\n",
    "elements.append(\"New\")\n",
    "elements.insert(1, \"New\")\n",
    "print(elements)\n",
    "print(elements.count(\"New\"))\n",
    "\n",
    "elements.remove(\"New\")\n",
    "elements.remove(\"New\")\n",
    "print(elements)\n",
    "\n",
    "elements.sort()\n",
    "print(elements)\n",
    "\n",
    "# You cannot sort elements of different types in a list"
   ]
  },
  {
   "cell_type": "code",
   "execution_count": null,
   "metadata": {},
   "outputs": [],
   "source": [
    "# Enumerating a list\n",
    "\n",
    "nums=range(1,20)\n",
    "\n",
    "for idx,num in enumerate(nums):\n",
    "    print(idx,num)    "
   ]
  },
  {
   "cell_type": "code",
   "execution_count": null,
   "metadata": {},
   "outputs": [],
   "source": [
    "# A little more with numeric lists\n",
    "\n",
    "nums=[]\n",
    "for num in range(20):\n",
    "    nums.append(num**2)\n",
    "print(nums)   \n",
    "\n",
    "[i**2 for i in range(20)]"
   ]
  },
  {
   "cell_type": "code",
   "execution_count": null,
   "metadata": {},
   "outputs": [],
   "source": [
    "# Adding more to list comprehension\n",
    "\n",
    "lst=[]\n",
    "for i in range(20):\n",
    "    if i%2==0:\n",
    "        lst.append(i)\n",
    "print(lst)  \n",
    "\n",
    "[num for num in range(20) if num%2==0]"
   ]
  },
  {
   "cell_type": "code",
   "execution_count": null,
   "metadata": {},
   "outputs": [],
   "source": [
    "# Nested list comprehension\n",
    "\n",
    "lst_chars=['a','b,','c','d','e']\n",
    "lst_num=[1,2,3,4,5]\n",
    "\n",
    "pair=[[i,j] for i in lst_chars for j in lst_num]\n",
    "print(pair)"
   ]
  },
  {
   "cell_type": "code",
   "execution_count": null,
   "metadata": {},
   "outputs": [],
   "source": [
    "# List comprehension with function calls\n",
    "\n",
    "words=[\"This\", \"is\", \"the\", \"way\", \"to\", \"live\", \"by\"]\n",
    "lengths=[len(word) for word in words]\n",
    "print(lengths)"
   ]
  },
  {
   "cell_type": "code",
   "execution_count": null,
   "metadata": {},
   "outputs": [],
   "source": [
    "# Nested lists\n",
    "\n",
    "lst=[[1,2,3,4],[6,7,8,9],[\"Alpha\",\"Mike\",\"Foxtrot\"]]\n",
    "print(lst[0])\n",
    "print(lst[0][0:2])\n",
    "print(lst[1:][1])"
   ]
  }
 ],
 "metadata": {
  "kernelspec": {
   "display_name": "Python 3",
   "language": "python",
   "name": "python3"
  },
  "language_info": {
   "codemirror_mode": {
    "name": "ipython",
    "version": 3
   },
   "file_extension": ".py",
   "mimetype": "text/x-python",
   "name": "python",
   "nbconvert_exporter": "python",
   "pygments_lexer": "ipython3",
   "version": "3.10.1"
  }
 },
 "nbformat": 4,
 "nbformat_minor": 2
}
