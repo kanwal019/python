{
 "cells": [
  {
   "cell_type": "code",
   "execution_count": 1,
   "metadata": {},
   "outputs": [
    {
     "name": "stdout",
     "output_type": "stream",
     "text": [
      "Hello World!\n"
     ]
    }
   ],
   "source": [
    "# Starting to work with python using Jupyter notebook\n",
    "\n",
    "print(\"Hello World!!\")"
   ]
  },
  {
   "cell_type": "code",
   "execution_count": 3,
   "metadata": {},
   "outputs": [
    {
     "name": "stdout",
     "output_type": "stream",
     "text": [
      "Sum - 300\n",
      "Difference - 100\n",
      "Multiplication - 20000\n",
      "Division - 2.0\n"
     ]
    }
   ],
   "source": [
    "# Basic calculator\n",
    "\n",
    "i=int(input(\"Enter first integer -\"))\n",
    "j=int(input(\"Enter second integer -\"))\n",
    "\n",
    "sum=i+j\n",
    "diff=i-j\n",
    "multi=i*j\n",
    "div=i/j\n",
    "\n",
    "print(\"Sum -\", sum)\n",
    "print(\"Difference -\", diff)\n",
    "print(\"Multiplication -\", multi)\n",
    "print(\"Division -\", div)"
   ]
  },
  {
   "cell_type": "code",
   "execution_count": 1,
   "metadata": {},
   "outputs": [
    {
     "name": "stdout",
     "output_type": "stream",
     "text": [
      "Is i less than 1000?\n",
      "True\n",
      "False\n"
     ]
    }
   ],
   "source": [
    "# Indentation is used to define the blocks of code instead of braces {}\n",
    "\n",
    "i=100\n",
    "\n",
    "if i<1000:\n",
    "    print(\"Is i less than 1000?\")\n",
    "    print(i<1000)\n",
    "\n",
    "if i>1000:\n",
    "    print(\"Is i greater than 1000?\")\n",
    "    print(i>1000)\n",
    "print(i>1000)\n"
   ]
  },
  {
   "cell_type": "code",
   "execution_count": 8,
   "metadata": {},
   "outputs": [
    {
     "name": "stdout",
     "output_type": "stream",
     "text": [
      "10 <class 'int'>\n",
      "1.01 <class 'float'>\n",
      "Test <class 'str'>\n",
      "True <class 'bool'>\n"
     ]
    }
   ],
   "source": [
    "# Types are determined at the runtime\n",
    "\n",
    "test=10\n",
    "print(test,type(test))\n",
    "\n",
    "test=1.01\n",
    "print(test,type(test))\n",
    "\n",
    "test=\"Test\"\n",
    "print(test,type(test))\n",
    "\n",
    "test=True\n",
    "print(test,type(test))"
   ]
  },
  {
   "cell_type": "code",
   "execution_count": 2,
   "metadata": {},
   "outputs": [
    {
     "name": "stdout",
     "output_type": "stream",
     "text": [
      "Test Variable 1\n",
      "Test Variable 2\n",
      "Test Variable 3\n"
     ]
    }
   ],
   "source": [
    "# python is case sensitive\n",
    "\n",
    "testVar=\"Test Variable 1\"\n",
    "TestVar=\"Test Variable 2\"\n",
    "testvar=\"Test Variable 3\"\n",
    "\n",
    "print(testVar)\n",
    "print(TestVar)\n",
    "print(testvar)"
   ]
  },
  {
   "cell_type": "code",
   "execution_count": 4,
   "metadata": {},
   "outputs": [
    {
     "name": "stdout",
     "output_type": "stream",
     "text": [
      "150\n",
      "10\n"
     ]
    }
   ],
   "source": [
    "# \\ in python used for multilines\n",
    "\n",
    "i=10+ \\\n",
    "20+ \\\n",
    "30 \\\n",
    "+40 \\\n",
    "+50\n",
    "print(i)\n",
    "\n",
    "j=10\n",
    "+20\n",
    "print(j)"
   ]
  },
  {
   "cell_type": "code",
   "execution_count": 4,
   "metadata": {},
   "outputs": [
    {
     "name": "stdout",
     "output_type": "stream",
     "text": [
      "Sum - 12\n",
      "Difference - 8\n",
      "Multiplication - 20\n",
      "Division - 5.0\n",
      "Floor Division - 5\n",
      "Modulus - 0\n",
      "Exponential Result - 100\n"
     ]
    }
   ],
   "source": [
    "# Calculator Advanced\n",
    "\n",
    "i=int(input(\"Enter first integer -\"))\n",
    "j=int(input(\"Enter second integer -\"))\n",
    "\n",
    "sum=i+j\n",
    "diff=i-j\n",
    "multi=i*j\n",
    "div=i/j\n",
    "floor_div=i//j\n",
    "mod=i%j\n",
    "exp=i**j\n",
    "\n",
    "print(\"Sum -\", sum)\n",
    "print(\"Difference -\", diff)\n",
    "print(\"Multiplication -\", multi)\n",
    "print(\"Division -\", div)\n",
    "print(\"Floor Division -\", floor_div)\n",
    "print(\"Modulus -\", mod)\n",
    "print(\"Exponential Result -\", exp)"
   ]
  }
 ],
 "metadata": {
  "kernelspec": {
   "display_name": "Python 3",
   "language": "python",
   "name": "python3"
  },
  "language_info": {
   "codemirror_mode": {
    "name": "ipython",
    "version": 3
   },
   "file_extension": ".py",
   "mimetype": "text/x-python",
   "name": "python",
   "nbconvert_exporter": "python",
   "pygments_lexer": "ipython3",
   "version": "3.10.1"
  }
 },
 "nbformat": 4,
 "nbformat_minor": 2
}
